{
 "cells": [
  {
   "cell_type": "code",
   "execution_count": 1,
   "metadata": {
    "collapsed": true
   },
   "outputs": [],
   "source": [
    "import numpy as np\n",
    "import pandas as pd\n",
    "import matplotlib.pyplot as mplt\n",
    "import seaborn as sns\n",
    "%matplotlib inline"
   ]
  },
  {
   "cell_type": "code",
   "execution_count": 2,
   "metadata": {
    "collapsed": true
   },
   "outputs": [],
   "source": [
    "df = pd.read_csv(\"../data/17_case_reported_and_value_of_property_taken_away_by_place_of_occurrence_2001_2012.csv\")"
   ]
  },
  {
   "cell_type": "code",
   "execution_count": 3,
   "metadata": {
    "collapsed": false
   },
   "outputs": [
    {
     "data": {
      "text/plain": [
       "(4344, 11)"
      ]
     },
     "execution_count": 3,
     "metadata": {},
     "output_type": "execute_result"
    }
   ],
   "source": [
    "df.shape"
   ]
  },
  {
   "cell_type": "code",
   "execution_count": 4,
   "metadata": {
    "collapsed": false
   },
   "outputs": [
    {
     "data": {
      "text/html": [
       "<div>\n",
       "<table border=\"1\" class=\"dataframe\">\n",
       "  <thead>\n",
       "    <tr style=\"text-align: right;\">\n",
       "      <th></th>\n",
       "      <th>state_ut</th>\n",
       "      <th>year</th>\n",
       "      <th>Place Of Occurrence</th>\n",
       "      <th>Dacoity (Section 395-398 IPC) - Number of cases registered</th>\n",
       "      <th>Dacoity (Section 395-398 IPC) - Value Of Property Stolen (in rupees)</th>\n",
       "      <th>Robbery(Section 392-394, 397, 398 IPC) - Number of cases registered</th>\n",
       "      <th>Robbery(Section 392-394, 397, 398 IPC) - Value Of Property Stolen (in rupees)</th>\n",
       "      <th>Burglary(Section 449-452, 454, 455, 457-460 IPC) - Number of cases registered</th>\n",
       "      <th>Burglary(Section 449-452, 454, 455, 457-460 IPC) - Value Of Property Stolen (in rupees)</th>\n",
       "      <th>Theft (Section 379-382 IPC) - Number of cases registered</th>\n",
       "      <th>Theft (Section 379-382 IPC) - Value Of Property Stolen (in rupees)</th>\n",
       "    </tr>\n",
       "  </thead>\n",
       "  <tbody>\n",
       "    <tr>\n",
       "      <th>0</th>\n",
       "      <td>Andhra Pradesh</td>\n",
       "      <td>2001</td>\n",
       "      <td>RESIDENTIAL PREMISES</td>\n",
       "      <td>100</td>\n",
       "      <td>4446961</td>\n",
       "      <td>177</td>\n",
       "      <td>5962460</td>\n",
       "      <td>5158</td>\n",
       "      <td>105324332</td>\n",
       "      <td>4257</td>\n",
       "      <td>53517835</td>\n",
       "    </tr>\n",
       "    <tr>\n",
       "      <th>1</th>\n",
       "      <td>Andhra Pradesh</td>\n",
       "      <td>2001</td>\n",
       "      <td>HIGH-WAY</td>\n",
       "      <td>57</td>\n",
       "      <td>5340335</td>\n",
       "      <td>172</td>\n",
       "      <td>6364866</td>\n",
       "      <td>31</td>\n",
       "      <td>2000574</td>\n",
       "      <td>74</td>\n",
       "      <td>1593092</td>\n",
       "    </tr>\n",
       "    <tr>\n",
       "      <th>2</th>\n",
       "      <td>Andhra Pradesh</td>\n",
       "      <td>2001</td>\n",
       "      <td>RIVER &amp; SEA</td>\n",
       "      <td>2</td>\n",
       "      <td>145345</td>\n",
       "      <td>11</td>\n",
       "      <td>209330</td>\n",
       "      <td>101</td>\n",
       "      <td>1412516</td>\n",
       "      <td>110</td>\n",
       "      <td>1610200</td>\n",
       "    </tr>\n",
       "    <tr>\n",
       "      <th>3</th>\n",
       "      <td>Andhra Pradesh</td>\n",
       "      <td>2001</td>\n",
       "      <td>RAILWAYS</td>\n",
       "      <td>8</td>\n",
       "      <td>1750800</td>\n",
       "      <td>19</td>\n",
       "      <td>304336</td>\n",
       "      <td>6</td>\n",
       "      <td>24392</td>\n",
       "      <td>943</td>\n",
       "      <td>16418110</td>\n",
       "    </tr>\n",
       "    <tr>\n",
       "      <th>4</th>\n",
       "      <td>Andhra Pradesh</td>\n",
       "      <td>2001</td>\n",
       "      <td>RUNNING TRAINS</td>\n",
       "      <td>5</td>\n",
       "      <td>75000</td>\n",
       "      <td>3</td>\n",
       "      <td>164000</td>\n",
       "      <td>0</td>\n",
       "      <td>0</td>\n",
       "      <td>296</td>\n",
       "      <td>6170175</td>\n",
       "    </tr>\n",
       "  </tbody>\n",
       "</table>\n",
       "</div>"
      ],
      "text/plain": [
       "         state_ut  year   Place Of Occurrence  \\\n",
       "0  Andhra Pradesh  2001  RESIDENTIAL PREMISES   \n",
       "1  Andhra Pradesh  2001              HIGH-WAY   \n",
       "2  Andhra Pradesh  2001           RIVER & SEA   \n",
       "3  Andhra Pradesh  2001              RAILWAYS   \n",
       "4  Andhra Pradesh  2001        RUNNING TRAINS   \n",
       "\n",
       "   Dacoity (Section 395-398 IPC) - Number of cases registered  \\\n",
       "0                                                100            \n",
       "1                                                 57            \n",
       "2                                                  2            \n",
       "3                                                  8            \n",
       "4                                                  5            \n",
       "\n",
       "   Dacoity (Section 395-398 IPC) - Value Of Property Stolen (in rupees)  \\\n",
       "0                                            4446961                      \n",
       "1                                            5340335                      \n",
       "2                                             145345                      \n",
       "3                                            1750800                      \n",
       "4                                              75000                      \n",
       "\n",
       "   Robbery(Section 392-394, 397, 398 IPC) - Number of cases registered  \\\n",
       "0                                                177                     \n",
       "1                                                172                     \n",
       "2                                                 11                     \n",
       "3                                                 19                     \n",
       "4                                                  3                     \n",
       "\n",
       "   Robbery(Section 392-394, 397, 398 IPC) - Value Of Property Stolen (in rupees)  \\\n",
       "0                                            5962460                               \n",
       "1                                            6364866                               \n",
       "2                                             209330                               \n",
       "3                                             304336                               \n",
       "4                                             164000                               \n",
       "\n",
       "   Burglary(Section 449-452, 454, 455, 457-460 IPC) - Number of cases registered  \\\n",
       "0                                               5158                               \n",
       "1                                                 31                               \n",
       "2                                                101                               \n",
       "3                                                  6                               \n",
       "4                                                  0                               \n",
       "\n",
       "   Burglary(Section 449-452, 454, 455, 457-460 IPC) - Value Of Property Stolen (in rupees)  \\\n",
       "0                                          105324332                                         \n",
       "1                                            2000574                                         \n",
       "2                                            1412516                                         \n",
       "3                                              24392                                         \n",
       "4                                                  0                                         \n",
       "\n",
       "   Theft (Section 379-382 IPC) - Number of cases registered  \\\n",
       "0                                               4257          \n",
       "1                                                 74          \n",
       "2                                                110          \n",
       "3                                                943          \n",
       "4                                                296          \n",
       "\n",
       "   Theft (Section 379-382 IPC) - Value Of Property Stolen (in rupees)  \n",
       "0                                           53517835                   \n",
       "1                                            1593092                   \n",
       "2                                            1610200                   \n",
       "3                                           16418110                   \n",
       "4                                            6170175                   "
      ]
     },
     "execution_count": 4,
     "metadata": {},
     "output_type": "execute_result"
    }
   ],
   "source": [
    "df.head()"
   ]
  },
  {
   "cell_type": "code",
   "execution_count": 5,
   "metadata": {
    "collapsed": false
   },
   "outputs": [],
   "source": [
    "highway_dacoits = df.loc[df['Place Of Occurrence'] == 'HIGH-WAY', :]"
   ]
  },
  {
   "cell_type": "code",
   "execution_count": 6,
   "metadata": {
    "collapsed": false
   },
   "outputs": [
    {
     "data": {
      "text/plain": [
       "2012    35\n",
       "2011    35\n",
       "2010    35\n",
       "2009    35\n",
       "2008    35\n",
       "2007    35\n",
       "2006    35\n",
       "2005    35\n",
       "2004    35\n",
       "2003    35\n",
       "2002    35\n",
       "2001    35\n",
       "Name: year, dtype: int64"
      ]
     },
     "execution_count": 6,
     "metadata": {},
     "output_type": "execute_result"
    }
   ],
   "source": [
    "highway_dacoits.year.value_counts()"
   ]
  },
  {
   "cell_type": "code",
   "execution_count": 7,
   "metadata": {
    "collapsed": true
   },
   "outputs": [],
   "source": [
    "year_state = highway_dacoits.groupby(['year', 'state_ut'])"
   ]
  },
  {
   "cell_type": "code",
   "execution_count": 8,
   "metadata": {
    "collapsed": false
   },
   "outputs": [
    {
     "data": {
      "text/html": [
       "<div>\n",
       "<table border=\"1\" class=\"dataframe\">\n",
       "  <thead>\n",
       "    <tr style=\"text-align: right;\">\n",
       "      <th></th>\n",
       "      <th>year</th>\n",
       "      <th>state_ut</th>\n",
       "      <th>Dacoity (Section 395-398 IPC) - Number of cases registered</th>\n",
       "      <th>Dacoity (Section 395-398 IPC) - Value Of Property Stolen (in rupees)</th>\n",
       "      <th>Robbery(Section 392-394, 397, 398 IPC) - Number of cases registered</th>\n",
       "      <th>Robbery(Section 392-394, 397, 398 IPC) - Value Of Property Stolen (in rupees)</th>\n",
       "      <th>Burglary(Section 449-452, 454, 455, 457-460 IPC) - Number of cases registered</th>\n",
       "      <th>Burglary(Section 449-452, 454, 455, 457-460 IPC) - Value Of Property Stolen (in rupees)</th>\n",
       "      <th>Theft (Section 379-382 IPC) - Number of cases registered</th>\n",
       "      <th>Theft (Section 379-382 IPC) - Value Of Property Stolen (in rupees)</th>\n",
       "    </tr>\n",
       "  </thead>\n",
       "  <tbody>\n",
       "    <tr>\n",
       "      <th>0</th>\n",
       "      <td>2001</td>\n",
       "      <td>A&amp;N Islands</td>\n",
       "      <td>0</td>\n",
       "      <td>0</td>\n",
       "      <td>0</td>\n",
       "      <td>0</td>\n",
       "      <td>0</td>\n",
       "      <td>0</td>\n",
       "      <td>0</td>\n",
       "      <td>0</td>\n",
       "    </tr>\n",
       "    <tr>\n",
       "      <th>1</th>\n",
       "      <td>2001</td>\n",
       "      <td>Andhra Pradesh</td>\n",
       "      <td>57</td>\n",
       "      <td>5340335</td>\n",
       "      <td>172</td>\n",
       "      <td>6364866</td>\n",
       "      <td>31</td>\n",
       "      <td>2000574</td>\n",
       "      <td>74</td>\n",
       "      <td>1593092</td>\n",
       "    </tr>\n",
       "    <tr>\n",
       "      <th>2</th>\n",
       "      <td>2001</td>\n",
       "      <td>Arunachal Pradesh</td>\n",
       "      <td>0</td>\n",
       "      <td>0</td>\n",
       "      <td>0</td>\n",
       "      <td>0</td>\n",
       "      <td>0</td>\n",
       "      <td>0</td>\n",
       "      <td>8</td>\n",
       "      <td>575000</td>\n",
       "    </tr>\n",
       "    <tr>\n",
       "      <th>3</th>\n",
       "      <td>2001</td>\n",
       "      <td>Assam</td>\n",
       "      <td>46</td>\n",
       "      <td>2023060</td>\n",
       "      <td>136</td>\n",
       "      <td>2968810</td>\n",
       "      <td>7</td>\n",
       "      <td>198947</td>\n",
       "      <td>87</td>\n",
       "      <td>1204993</td>\n",
       "    </tr>\n",
       "    <tr>\n",
       "      <th>4</th>\n",
       "      <td>2001</td>\n",
       "      <td>Bihar</td>\n",
       "      <td>162</td>\n",
       "      <td>10246946</td>\n",
       "      <td>826</td>\n",
       "      <td>21645043</td>\n",
       "      <td>0</td>\n",
       "      <td>0</td>\n",
       "      <td>257</td>\n",
       "      <td>11682986</td>\n",
       "    </tr>\n",
       "  </tbody>\n",
       "</table>\n",
       "</div>"
      ],
      "text/plain": [
       "   year           state_ut  \\\n",
       "0  2001        A&N Islands   \n",
       "1  2001     Andhra Pradesh   \n",
       "2  2001  Arunachal Pradesh   \n",
       "3  2001              Assam   \n",
       "4  2001              Bihar   \n",
       "\n",
       "   Dacoity (Section 395-398 IPC) - Number of cases registered  \\\n",
       "0                                                  0            \n",
       "1                                                 57            \n",
       "2                                                  0            \n",
       "3                                                 46            \n",
       "4                                                162            \n",
       "\n",
       "   Dacoity (Section 395-398 IPC) - Value Of Property Stolen (in rupees)  \\\n",
       "0                                                  0                      \n",
       "1                                            5340335                      \n",
       "2                                                  0                      \n",
       "3                                            2023060                      \n",
       "4                                           10246946                      \n",
       "\n",
       "   Robbery(Section 392-394, 397, 398 IPC) - Number of cases registered  \\\n",
       "0                                                  0                     \n",
       "1                                                172                     \n",
       "2                                                  0                     \n",
       "3                                                136                     \n",
       "4                                                826                     \n",
       "\n",
       "   Robbery(Section 392-394, 397, 398 IPC) - Value Of Property Stolen (in rupees)  \\\n",
       "0                                                  0                               \n",
       "1                                            6364866                               \n",
       "2                                                  0                               \n",
       "3                                            2968810                               \n",
       "4                                           21645043                               \n",
       "\n",
       "   Burglary(Section 449-452, 454, 455, 457-460 IPC) - Number of cases registered  \\\n",
       "0                                                  0                               \n",
       "1                                                 31                               \n",
       "2                                                  0                               \n",
       "3                                                  7                               \n",
       "4                                                  0                               \n",
       "\n",
       "   Burglary(Section 449-452, 454, 455, 457-460 IPC) - Value Of Property Stolen (in rupees)  \\\n",
       "0                                                  0                                         \n",
       "1                                            2000574                                         \n",
       "2                                                  0                                         \n",
       "3                                             198947                                         \n",
       "4                                                  0                                         \n",
       "\n",
       "   Theft (Section 379-382 IPC) - Number of cases registered  \\\n",
       "0                                                  0          \n",
       "1                                                 74          \n",
       "2                                                  8          \n",
       "3                                                 87          \n",
       "4                                                257          \n",
       "\n",
       "   Theft (Section 379-382 IPC) - Value Of Property Stolen (in rupees)  \n",
       "0                                                  0                   \n",
       "1                                            1593092                   \n",
       "2                                             575000                   \n",
       "3                                            1204993                   \n",
       "4                                           11682986                   "
      ]
     },
     "execution_count": 8,
     "metadata": {},
     "output_type": "execute_result"
    }
   ],
   "source": [
    "year_state.sum().reset_index().head()"
   ]
  },
  {
   "cell_type": "code",
   "execution_count": 9,
   "metadata": {
    "collapsed": false
   },
   "outputs": [],
   "source": [
    "tn_hw_dacoits = highway_dacoits.loc[highway_dacoits.state_ut == 'Tamil Nadu',\n",
    "                                    [\n",
    "        'year',\n",
    "        'Dacoity (Section 395-398 IPC) - Number of cases registered',\n",
    "        'Dacoity (Section 395-398 IPC) - Value Of Property Stolen (in rupees)'\n",
    "    ]\n",
    "]"
   ]
  },
  {
   "cell_type": "code",
   "execution_count": 10,
   "metadata": {
    "collapsed": false
   },
   "outputs": [
    {
     "data": {
      "text/plain": [
       "<matplotlib.text.Text at 0x7f8f63a56be0>"
      ]
     },
     "execution_count": 10,
     "metadata": {},
     "output_type": "execute_result"
    },
    {
     "data": {
      "image/png": "[encoded data removed]",
      "text/plain": [
       "<matplotlib.figure.Figure at 0x7f8f63a48e10>"
      ]
     },
     "metadata": {},
     "output_type": "display_data"
    }
   ],
   "source": [
    "size_range = tn_hw_dacoits[[2]].apply(lambda x: x / 100000)\n",
    "sns.set_style('darkgrid')\n",
    "mplt.scatter(tn_hw_dacoits.year, tn_hw_dacoits[[1]], s=size_range)\n",
    "mplt.title('Dacoits in Tamil Nadu by value of property stolen')\n",
    "mplt.ylabel('Number of dacoit cases registered')\n",
    "mplt.xlabel('Year')"
   ]
  }
 ],
 "metadata": {
  "anaconda-cloud": {},
  "kernelspec": {
   "display_name": "Python [conda root]",
   "language": "python",
   "name": "conda-root-py"
  },
  "language_info": {
   "codemirror_mode": {
    "name": "ipython",
    "version": 3
   },
   "file_extension": ".py",
   "mimetype": "text/x-python",
   "name": "python",
   "nbconvert_exporter": "python",
   "pygments_lexer": "ipython3",
   "version": "3.5.2"
  }
 },
 "nbformat": 4,
 "nbformat_minor": 1
}
